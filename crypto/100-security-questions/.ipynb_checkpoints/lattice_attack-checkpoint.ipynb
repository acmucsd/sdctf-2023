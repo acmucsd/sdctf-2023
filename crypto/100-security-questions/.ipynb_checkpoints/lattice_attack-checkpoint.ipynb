{
 "cells": [
  {
   "cell_type": "code",
   "execution_count": 1,
   "id": "fa53c013",
   "metadata": {},
   "outputs": [],
   "source": [
    "from KeyRecoveryScheme import h, p, Cipher\n",
    "import time\n",
    "import base64\n",
    "from Crypto.Cipher import AES\n",
    "from Crypto.Util.Padding import unpad"
   ]
  },
  {
   "cell_type": "code",
   "execution_count": 2,
   "id": "afe79d1c",
   "metadata": {
    "vscode": {
     "languageId": "python"
    }
   },
   "outputs": [],
   "source": [
    "# Credit to https://www.iacr.org/archive/eurocrypt2000/1807/18070053-new.pdf\n",
    "# And to Keegan and Miro for helping me understand the attack, also teaching me some things about Sage\n",
    "\n",
    "def lagrange_polynomial(i, x_lst, gf): # The polynomial L_i(x) according to the paper\n",
    "    R.<X> = gf['X']\n",
    "    result = 1\n",
    "    for j in range(len(x_lst)):\n",
    "        if (j == i):\n",
    "            continue\n",
    "        X_term = (X - x_lst[j]) / (x_lst[i] - x_lst[j])\n",
    "        result *= X_term\n",
    "    return result\n",
    "\n",
    "def generate_A(pts, k, m, n, p):\n",
    "    gf = GF(p)\n",
    "    (x_lst, y_cand) = zip(*pts)\n",
    "    for cand in y_cand:\n",
    "        assert(len(cand) == m)\n",
    "    assert(len(x_lst) == len(y_cand))\n",
    "    assert(n == len(x_lst))\n",
    "    assert(n > k + 1)\n",
    "    # construct A as per p59 of Bleichenbacher & Nguyen\n",
    "    A_rows = []\n",
    "    for i in range(len(y_cand)):\n",
    "        for j in range(len(y_cand[i])):\n",
    "            l_i = lagrange_polynomial(i, x_lst, gf).coefficients(sparse=False)\n",
    "            A_row = [(y_cand[i][j] * l_i[deg]) % p for deg in range(k+1, n)]\n",
    "            A_rows.append(A_row) # append row to end\n",
    "    A = matrix(GF(p), A_rows)\n",
    "    return A\n",
    "\n",
    "def generate_subspace(m, n, p): # m is number of candidates per x value, n is number of x values\n",
    "    # credit to Keegan for the idea to express this rule as a kernel\n",
    "    vectors = []\n",
    "    for i in range(n - 1):\n",
    "        left_i = i\n",
    "        right_i = i + 1\n",
    "        vector = [] # row in transposed matrix, col in the final matrix\n",
    "        for i2 in range(n):\n",
    "            for j2 in range(m):\n",
    "                if (i2 == left_i):\n",
    "                    vector.append(1)\n",
    "                elif (i2 == right_i):\n",
    "                    vector.append(-1)\n",
    "                else:\n",
    "                    vector.append(0)\n",
    "        vectors.append(vector)\n",
    "    return kernel(matrix(GF(p), vectors).transpose())\n",
    "\n",
    "def get_pts(lock, possible_answers, m, n, p): # enumerates possibilities at each x coordinate, based on possible values of share at each coordinate\n",
    "    s_i = [int(s_ij) for s_ij in lock.decode().split(\",\")]\n",
    "    pts = []\n",
    "    assert(len(s_i) == n)\n",
    "    for x in range(0, n):\n",
    "        assert(len(possible_answers[x]) == m)\n",
    "        s_ij = s_i[x]\n",
    "        cand = []\n",
    "        for i in range(m):\n",
    "            cip = Cipher((x + 1, possible_answers[x][i]), p)\n",
    "            dec = cip.decrypt(s_ij)\n",
    "            cand.append(dec)\n",
    "        pts.append((x + 1, cand))\n",
    "    return pts\n",
    "\n",
    "def target_to_poly(target, pts, m, n, p):\n",
    "    (x_lst, y_cand) = zip(*pts)\n",
    "    assert(len(target) == m * n)\n",
    "    index = 0\n",
    "    gf = GF(p)\n",
    "    R.<X> = GF(p)[\"X\"]\n",
    "    poly = 0\n",
    "    for i in range(n):\n",
    "        for j in range(m):\n",
    "            poly += target[index] * y_cand[i][j] * lagrange_polynomial(i, x_lst, gf)\n",
    "            index += 1\n",
    "    return poly\n",
    "\n",
    "def negative_vector(vector):\n",
    "    return tuple(-1 * c for c in vector)\n",
    "\n",
    "def valid_vector(vector, m, n, p):\n",
    "    if (len(vector) != m * n): return False\n",
    "    index = 0\n",
    "    for i in range(n):\n",
    "        j_sum = 0\n",
    "        for j in range(m):\n",
    "            if (vector[index] not in [0, 1]): return False\n",
    "            j_sum += vector[index]\n",
    "            index += 1\n",
    "        if (j_sum != 1): return False\n",
    "    return True\n",
    "\n",
    "def get_lattice_basis(pts, k, m, n, p): # given noisy polynomial interpolation problem, generate lattice basis\n",
    "    A = generate_A(pts, k, m, n, p)\n",
    "    L = kernel(A)\n",
    "    big_lambda = L.intersection(generate_subspace(m, n, p))\n",
    "    big_lambda_matrix = matrix(ZZ, big_lambda.basis())\n",
    "    p_identity_matrix = p * matrix.identity(ZZ, big_lambda_matrix.ncols())\n",
    "    # credit to Keegan for teaching me this trick for lifting\n",
    "    lifted_big_lambda_matrix = block_matrix([[big_lambda_matrix],[p_identity_matrix]])\n",
    "    return lifted_big_lambda_matrix\n",
    "\n",
    "def full_attack(lock, possible_answers, k, m, n, p):\n",
    "    begin_time = time.time()\n",
    "    pts = get_pts(lock, possible_answers, m, n, p)\n",
    "    get_pts_time = time.time()\n",
    "    print(f\"Generated set of candidate y values for each x value ({get_pts_time - begin_time} seconds)\")\n",
    "    A = generate_A(pts, k, m, n, p)\n",
    "    generate_A_time = time.time()\n",
    "    print(f\"Generated matrix A ({generate_A_time - get_pts_time} seconds)\")\n",
    "    L = kernel(A)\n",
    "    kernel_A_time = time.time()\n",
    "    print(f\"Calculated L = kernel of A ({kernel_A_time - generate_A_time} seconds)\")\n",
    "    big_lambda = L.intersection(generate_subspace(m, n, p))\n",
    "    intersection_time = time.time()\n",
    "    print(f\"Calculated improved sublattice of L ({intersection_time - kernel_A_time} seconds)\")\n",
    "    big_lambda_matrix = matrix(ZZ, big_lambda.basis())\n",
    "    p_identity_matrix = p * matrix.identity(ZZ, big_lambda_matrix.ncols())\n",
    "    # credit to Keegan for teaching me this trick for lifting\n",
    "    lifted_big_lambda_matrix = block_matrix([[big_lambda_matrix],[p_identity_matrix]])\n",
    "    lift_time = time.time()\n",
    "    print(f\"Lifted sublattice into ZZ ring ({lift_time - intersection_time} seconds)\")\n",
    "    reduced_basis = lifted_big_lambda_matrix.LLL()\n",
    "    LLL_time = time.time()\n",
    "    print(f\"Reduced lattice basis ({LLL_time - lift_time} seconds)\")\n",
    "    for vec in reduced_basis.rows():\n",
    "        is_valid = valid_vector(vec, m, n, p)\n",
    "        is_valid_negative = valid_vector(negative_vector(vec), m, n, p)\n",
    "        if (is_valid or is_valid_negative):\n",
    "            if (is_valid):\n",
    "                v = vec\n",
    "            else:\n",
    "                v = negative_vector(vec)\n",
    "            print(f\"Found target vector = {str(v)}\")\n",
    "            poly = target_to_poly(v, pts, m, n, p)\n",
    "            key = h(poly.coefficients(sparse=False)[0])\n",
    "            print(f\"key = {str(key)}\")\n",
    "            final_time = time.time()\n",
    "            print(f\"Total time of full attack: {final_time - begin_time} seconds\")\n",
    "            return key\n",
    "    print(\"Sorry, wasn't able to find target vector in reduced lattice basis :(\")\n",
    "    return reduced_basis.rows()"
   ]
  },
  {
   "cell_type": "code",
   "execution_count": 3,
   "id": "2c19c4dd",
   "metadata": {},
   "outputs": [],
   "source": [
    "possible_answers = [[\"true\", \"false\"] for _ in range(100)]"
   ]
  },
  {
   "cell_type": "code",
   "execution_count": 4,
   "id": "b9f46ab0",
   "metadata": {},
   "outputs": [
    {
     "name": "stdout",
     "output_type": "stream",
     "text": [
      "Generated set of candidate y values for each x value (0.011949539184570312 seconds)\n",
      "Generated matrix A (0.5405046939849854 seconds)\n",
      "Calculated L = kernel of A (0.7227323055267334 seconds)\n",
      "Calculated improved sublattice of L (0.9851882457733154 seconds)\n",
      "Lifted sublattice into ZZ ring (0.021160125732421875 seconds)\n",
      "Reduced lattice basis (30.828454732894897 seconds)\n",
      "Found target vector = (1, 0, 0, 1, 1, 0, 0, 1, 0, 1, 0, 1, 1, 0, 0, 1, 1, 0, 0, 1, 0, 1, 0, 1, 1, 0, 0, 1, 0, 1, 0, 1, 0, 1, 1, 0, 1, 0, 0, 1, 1, 0, 1, 0, 0, 1, 0, 1, 0, 1, 1, 0, 0, 1, 0, 1, 1, 0, 1, 0, 1, 0, 1, 0, 0, 1, 0, 1, 1, 0, 1, 0, 1, 0, 1, 0, 0, 1, 0, 1, 0, 1, 0, 1, 1, 0, 1, 0, 1, 0, 0, 1, 0, 1, 1, 0, 0, 1, 1, 0, 1, 0, 0, 1, 0, 1, 0, 1, 0, 1, 0, 1, 0, 1, 1, 0, 1, 0, 0, 1, 1, 0, 0, 1, 1, 0, 0, 1, 0, 1, 1, 0, 1, 0, 0, 1, 1, 0, 1, 0, 1, 0, 1, 0, 1, 0, 0, 1, 0, 1, 0, 1, 1, 0, 1, 0, 0, 1, 1, 0, 0, 1, 0, 1, 0, 1, 1, 0, 1, 0, 1, 0, 0, 1, 1, 0, 1, 0, 1, 0, 1, 0, 0, 1, 1, 0, 1, 0, 1, 0, 1, 0, 1, 0, 1, 0, 1, 0, 1, 0)\n",
      "key = b'p\\x01\\xf9\\xa05@\\xa8\\xa4\\x15([\\xd4\\x8a\\xef\\xf1\\x88'\n",
      "Total time of full attack: 35.689310789108276 seconds\n"
     ]
    }
   ],
   "source": [
    "lock = b'106759590169233256240116576100984316903,38871068223309542933829820574113668620,83028278536556545711294885163148387142,242409098157408441529695033334911855180,116696175642729045330225644798727487995,25745077924494386882186160665824180709,3749150220969689800525884645546753020,41229526641743915787671972469737679059,1025092079980903892175671362119361385,87442070479417017588588576273967414671,103443145887602169771472757845564299274,231402048258127852848452766090931649948,112204708233889387355279305448909480284,218041074539959680623403003486085421924,203864319911147830920844223074078497017,219060378237621763627868292687516351162,132779689223270139459028364380916096143,120320494378682236053902344618895362212,79853179576770311567538721353020689137,40760930940595250821447927703875160818,88498498940599526715863964205649486507,14596551686061350382027863294368932115,156327626955229492013410246798517903620,207771440493585478935246579932888034628,47626117180794791908872819379637569487,38887692045428651369156894477977872569,173099507576117011363574770818872284511,8639448095751352732186074773006683320,123994371369385135766393562493728284113,58607544324365714147638731459424680852,41059105262237695360654041282818092563,191866791675182698283938706229981293267,78019157068208700227775746584579511765,34758044264314619945268463799131726804,152610957204170970738305769040642284292,176864407496641236049173733937074044323,71618372034642355406603874323350379427,80162064319062235465894655126403904479,52730133316010316537825458562742163368,69319344164559333157316168282672764024,53518591845669344103366326705734932595,191116544922269791498139707329283948852,44730325474106066227476653945393784383,800308639135424105737836799879122592,194980320659061967347206320614000421518,39644881651862848409677952728660223024,8205081802585864965506785712404949693,223272659685916500327787811467554718840,107850331767921734990528778853218468340,183302945565571746527649830564563623199,59212996827685311022630622026689793191,201582923817690472148776948100781002264,183066966363487827864150342802757788947,143822979311468453339372561760130324244,105132620553053602362943761425055278288,149115985446513768094841285044097778770,102572205679044736180751432735278888201,125729134483465840798994535506862948212,81028337522969428431777609356898669079,119733035090362742532317068664997308994,176859002548291916800936609009686387612,129878280472536876015974804270519045616,129001330758083278565289141085780620486,160122530405075712739463744716387955655,84789570559628093540586679007549166910,28618307002597458008578838667159185643,257720860339318371280055146064141902679,150286875015593011838958713856889777173,95316497346218810922138264913557045236,85730415986682732412199509469986169062,234001410391892232145045715243198360227,118263475055944528676780460790427773583,89842407116226363209780658804556270407,131965118159818831354464877552804868646,74852497289507755434556719739433431731,184432769334996223848389126603663182634,194931456359749275104622491258652719899,131501726001746163678337504322958538527,79717380250117018565317642971791932563,17416850893215351041369213514332416962,132050635045717213134481276058614099367,71793801075687045348360532739164183939,74349365925721421763954237569014645639,65882059780078220705360115959867898854,73087737753628782962579846556418322072,169662598748723284380030796721976428340,21546825821185564094143690189886523786,187984038241951320729706232144670353099,206604053031685494286340461718395956584,8797454264905733176458938653848080884,245191771931965372576736752069825833302,239102595346102203337532939643413134144,60652455153203916068621877015984467340,1890326761581455593511921598556639741,208977981080623381067766972331639368442,226552594606341698617861250593473462836,101335931678702993896968415238424785968,73859937420782642570019814757293725664,61336456036331106652157104878356116861,39372891584583372023031401668025133010'\n",
    "key = full_attack(lock=lock, possible_answers=possible_answers, k=90 - 1, m=2, n=100, p=p)"
   ]
  },
  {
   "cell_type": "code",
   "execution_count": 5,
   "id": "fae2aafd",
   "metadata": {},
   "outputs": [
    {
     "data": {
      "text/plain": [
       "b'SDCTF{f9f4bf8058540660986a82c565df85cb}'"
      ]
     },
     "execution_count": 5,
     "metadata": {},
     "output_type": "execute_result"
    }
   ],
   "source": [
    "flag_aes = base64.b64decode(\"V12ML4VyKlrl4QPoqJO0VgZ/jEInY2jjqiclpev0Y3tyaJaYoC6UKV0MroTBssuz\")\n",
    "aes_cipher = AES.new(key, AES.MODE_ECB)\n",
    "unpad(aes_cipher.decrypt(flag_aes), 16)"
   ]
  }
 ],
 "metadata": {
  "kernelspec": {
   "display_name": "SageMath 9.6",
   "language": "sage",
   "name": "sagemath"
  },
  "language_info": {
   "codemirror_mode": {
    "name": "ipython",
    "version": 3
   },
   "file_extension": ".py",
   "mimetype": "text/x-python",
   "name": "python",
   "nbconvert_exporter": "python",
   "pygments_lexer": "ipython3",
   "version": "3.11.2"
  }
 },
 "nbformat": 4,
 "nbformat_minor": 5
}
